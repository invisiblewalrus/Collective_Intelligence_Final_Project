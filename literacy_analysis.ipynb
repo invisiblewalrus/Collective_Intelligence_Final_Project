{
 "cells": [
  {
   "cell_type": "code",
   "execution_count": 1,
   "metadata": {},
   "outputs": [],
   "source": [
    "import pandas as pd\n",
    "import json\n",
    "import boto3\n",
    "import numpy as np\n",
    "import textstat"
   ]
  },
  {
   "cell_type": "code",
   "execution_count": 18,
   "metadata": {},
   "outputs": [],
   "source": [
    "def make_df(file):\n",
    "    with open(file) as data_file:    \n",
    "        data = json.load(data_file)\n",
    "        d = dict()\n",
    "        df = pd.DataFrame(data)\n",
    "        d['df'] = df\n",
    "        d['len'] = len(df)\n",
    "        return d"
   ]
  },
  {
   "cell_type": "code",
   "execution_count": 23,
   "metadata": {},
   "outputs": [
    {
     "name": "stdout",
     "output_type": "stream",
     "text": [
      "For the movie Dumbo, the mean lexicon count was 21.871363636363636, the mean sentence count was 1.5018181818181817, the mean flesch reading ease score was 70.40076363636376, and the mean flesch_kincaid grade level was 7.398000000000003.\n"
     ]
    }
   ],
   "source": [
    "def getReadability(movie_title, the_file):\n",
    "   the_df_and_len_dictionary = make_df(the_file)\n",
    "   movie_df = the_df_and_len_dictionary.get('df')\n",
    "   movie_tweet_list = movie_df['text'].tolist()\n",
    "   num_tweets = the_df_and_len_dictionary.get('len')\n",
    "   lexicon_count = 0\n",
    "   sentence_count = 0\n",
    "   flesch_ease = 0\n",
    "   flesch_kincaid = 0\n",
    "\n",
    "\n",
    "   for i in movie_tweet_list:\n",
    "\n",
    "       lexicon_count += textstat.lexicon_count(i, removepunct=True)\n",
    "       sentence_count += textstat.sentence_count(i)\n",
    "       flesch_ease += textstat.flesch_reading_ease(i)\n",
    "       flesch_kincaid += textstat.flesch_kincaid_grade(i)\n",
    "\n",
    "\n",
    "   mean_lexicon = lexicon_count / num_tweets  \n",
    "   mean_sentence = sentence_count / num_tweets\n",
    "   mean_flesch = flesch_ease / num_tweets\n",
    "   mean_flesch_kincaid = flesch_kincaid / num_tweets\n",
    "\n",
    "\n",
    "   print('For the movie ' + movie_title + ', the mean lexicon count was ' + str(mean_lexicon) +\n",
    "         ', the mean sentence count was ' + str(mean_sentence) + ', the mean flesch reading ease score was ' +\n",
    "         str(mean_flesch) + ', and the mean flesch_kincaid grade level was ' + str(mean_flesch_kincaid) + '.')\n",
    "\n",
    "getReadability('Dumbo', 'FINAL_CLEANED_DATASETS/JSON_FILES/Dumbo.json')"
   ]
  },
  {
   "cell_type": "code",
   "execution_count": null,
   "metadata": {},
   "outputs": [],
   "source": []
  }
 ],
 "metadata": {
  "kernelspec": {
   "display_name": "Python 3",
   "language": "python",
   "name": "python3"
  },
  "language_info": {
   "codemirror_mode": {
    "name": "ipython",
    "version": 3
   },
   "file_extension": ".py",
   "mimetype": "text/x-python",
   "name": "python",
   "nbconvert_exporter": "python",
   "pygments_lexer": "ipython3",
   "version": "3.7.3"
  }
 },
 "nbformat": 4,
 "nbformat_minor": 2
}
