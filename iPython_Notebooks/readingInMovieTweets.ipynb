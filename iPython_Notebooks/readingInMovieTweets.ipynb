{
 "cells": [
  {
   "cell_type": "code",
   "execution_count": 3,
   "metadata": {},
   "outputs": [],
   "source": [
    "import numpy as np\n",
    "import pandas as pd\n",
    "import json"
   ]
  },
  {
   "cell_type": "code",
   "execution_count": 5,
   "metadata": {},
   "outputs": [],
   "source": [
    "def make_df(file_name):\n",
    "    with open(file_name) as data_file:    \n",
    "        data = json.load(data_file)\n",
    "        df = pd.DataFrame(data)\n",
    "        return df\n",
    "               \n",
    "BestOfEnemies_df = make_df('FINAL_CLEANED_DATASETS/JSON_FILES/BestOfEnemies.json')\n",
    "Dumbo_df = make_df('FINAL_CLEANED_DATASETS/JSON_FILES/BestOfEnemies.json')\n",
    "Haunting_df = make_df('FINAL_CLEANED_DATASETS/JSON_FILES/HAUNTING.json')\n",
    "PetSemetary_df = make_df('FINAL_CLEANED_DATASETS/JSON_FILES/PETSEM.json')\n",
    "Shazam_df = make_df('FINAL_CLEANED_DATASETS/JSON_FILES/FINALSHAZAMTWEETS.json')"
   ]
  },
  {
   "cell_type": "code",
   "execution_count": 6,
   "metadata": {},
   "outputs": [
    {
     "data": {
      "text/html": [
       "<div>\n",
       "<style scoped>\n",
       "    .dataframe tbody tr th:only-of-type {\n",
       "        vertical-align: middle;\n",
       "    }\n",
       "\n",
       "    .dataframe tbody tr th {\n",
       "        vertical-align: top;\n",
       "    }\n",
       "\n",
       "    .dataframe thead th {\n",
       "        text-align: right;\n",
       "    }\n",
       "</style>\n",
       "<table border=\"1\" class=\"dataframe\">\n",
       "  <thead>\n",
       "    <tr style=\"text-align: right;\">\n",
       "      <th></th>\n",
       "      <th></th>\n",
       "      <th>text</th>\n",
       "    </tr>\n",
       "  </thead>\n",
       "  <tbody>\n",
       "    <tr>\n",
       "      <th>0</th>\n",
       "      <td>1</td>\n",
       "      <td>a friendly reminder that #Shazam will be takin...</td>\n",
       "    </tr>\n",
       "    <tr>\n",
       "      <th>1</th>\n",
       "      <td>2</td>\n",
       "      <td>What if you could just say #shazam! &amp;amp; expo...</td>\n",
       "    </tr>\n",
       "    <tr>\n",
       "      <th>2</th>\n",
       "      <td>3</td>\n",
       "      <td>Honne's label is promoting the hell out of cry...</td>\n",
       "    </tr>\n",
       "    <tr>\n",
       "      <th>3</th>\n",
       "      <td>4</td>\n",
       "      <td>If you were a Superhero what would you call yo...</td>\n",
       "    </tr>\n",
       "    <tr>\n",
       "      <th>4</th>\n",
       "      <td>5</td>\n",
       "      <td>�SHAZAM! is the most fun you�ll have at the mo...</td>\n",
       "    </tr>\n",
       "  </tbody>\n",
       "</table>\n",
       "</div>"
      ],
      "text/plain": [
       "                                                   text\n",
       "0  1  a friendly reminder that #Shazam will be takin...\n",
       "1  2  What if you could just say #shazam! &amp; expo...\n",
       "2  3  Honne's label is promoting the hell out of cry...\n",
       "3  4  If you were a Superhero what would you call yo...\n",
       "4  5  �SHAZAM! is the most fun you�ll have at the mo..."
      ]
     },
     "execution_count": 6,
     "metadata": {},
     "output_type": "execute_result"
    }
   ],
   "source": [
    "Shazam_df.head()"
   ]
  },
  {
   "cell_type": "code",
   "execution_count": null,
   "metadata": {},
   "outputs": [],
   "source": []
  }
 ],
 "metadata": {
  "kernelspec": {
   "display_name": "Python 3",
   "language": "python",
   "name": "python3"
  },
  "language_info": {
   "codemirror_mode": {
    "name": "ipython",
    "version": 3
   },
   "file_extension": ".py",
   "mimetype": "text/x-python",
   "name": "python",
   "nbconvert_exporter": "python",
   "pygments_lexer": "ipython3",
   "version": "3.7.3"
  }
 },
 "nbformat": 4,
 "nbformat_minor": 2
}
