{
 "cells": [
  {
   "cell_type": "code",
   "execution_count": 16,
   "metadata": {},
   "outputs": [],
   "source": [
    "import numpy as np\n",
    "import pandas as pd\n",
    "import json"
   ]
  },
  {
   "cell_type": "code",
   "execution_count": 39,
   "metadata": {},
   "outputs": [],
   "source": [
    "def make_df(file_name):\n",
    "    with open(file_name) as data_file:    \n",
    "        data = json.load(data_file)\n",
    "        df = pd.DataFrame(data)\n",
    "        return df\n",
    "               \n",
    "BestOfEnemies_df = make_df('FINAL_CLEANED_DATASETS/JSON_FILES/BestOfEnemies.json')\n",
    "Dumbo_df = make_df('FINAL_CLEANED_DATASETS/JSON_FILES/BestOfEnemies.json')\n",
    "BestOfEnemies_df = make_df('FINAL_CLEANED_DATASETS/JSON_FILES/HAUNTING.json')"
   ]
  }
 ],
 "metadata": {
  "kernelspec": {
   "display_name": "Python 3",
   "language": "python",
   "name": "python3"
  },
  "language_info": {
   "codemirror_mode": {
    "name": "ipython",
    "version": 3
   },
   "file_extension": ".py",
   "mimetype": "text/x-python",
   "name": "python",
   "nbconvert_exporter": "python",
   "pygments_lexer": "ipython3",
   "version": "3.7.3"
  }
 },
 "nbformat": 4,
 "nbformat_minor": 2
}
